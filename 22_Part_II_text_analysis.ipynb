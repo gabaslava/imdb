{
 "cells": [
  {
   "cell_type": "markdown",
   "metadata": {},
   "source": [
    "## II Critic's reviews - BOW approach"
   ]
  },
  {
   "cell_type": "code",
   "execution_count": 1,
   "metadata": {},
   "outputs": [
    {
     "name": "stderr",
     "output_type": "stream",
     "text": [
      "[nltk_data] Downloading package punkt to\n",
      "[nltk_data]     C:\\Users\\g.slavinskaite\\AppData\\Roaming\\nltk_data...\n",
      "[nltk_data]   Package punkt is already up-to-date!\n",
      "[nltk_data] Downloading package wordnet to\n",
      "[nltk_data]     C:\\Users\\g.slavinskaite\\AppData\\Roaming\\nltk_data...\n",
      "[nltk_data]   Package wordnet is already up-to-date!\n"
     ]
    },
    {
     "data": {
      "text/plain": [
       "True"
      ]
     },
     "execution_count": 1,
     "metadata": {},
     "output_type": "execute_result"
    }
   ],
   "source": [
    "import pandas as pd\n",
    "import numpy as np\n",
    "import matplotlib.pyplot as plt\n",
    "from collections import Counter\n",
    "\n",
    "import nltk\n",
    "from nltk.tokenize import word_tokenize\n",
    "nltk.download('punkt')\n",
    "from nltk.corpus import stopwords\n",
    "from nltk.stem import PorterStemmer\n",
    "nltk.download('wordnet')"
   ]
  },
  {
   "cell_type": "markdown",
   "metadata": {},
   "source": [
    "## Dataframe consisting of movie title, review, source of the review, and label\n",
    "\n",
    "### Analysis will be done with 3467 samples"
   ]
  },
  {
   "cell_type": "code",
   "execution_count": 2,
   "metadata": {},
   "outputs": [
    {
     "name": "stdout",
     "output_type": "stream",
     "text": [
      "3467\n"
     ]
    },
    {
     "data": {
      "text/html": [
       "<div>\n",
       "<style scoped>\n",
       "    .dataframe tbody tr th:only-of-type {\n",
       "        vertical-align: middle;\n",
       "    }\n",
       "\n",
       "    .dataframe tbody tr th {\n",
       "        vertical-align: top;\n",
       "    }\n",
       "\n",
       "    .dataframe thead th {\n",
       "        text-align: right;\n",
       "    }\n",
       "</style>\n",
       "<table border=\"1\" class=\"dataframe\">\n",
       "  <thead>\n",
       "    <tr style=\"text-align: right;\">\n",
       "      <th></th>\n",
       "      <th>index</th>\n",
       "      <th>title</th>\n",
       "      <th>source</th>\n",
       "      <th>review</th>\n",
       "      <th>outcome</th>\n",
       "    </tr>\n",
       "  </thead>\n",
       "  <tbody>\n",
       "    <tr>\n",
       "      <th>3462</th>\n",
       "      <td>3498</td>\n",
       "      <td>Inception (2010)</td>\n",
       "      <td>popmatters</td>\n",
       "      <td>This dialogue between Ben Walters and J.M. Tyr...</td>\n",
       "      <td>True</td>\n",
       "    </tr>\n",
       "    <tr>\n",
       "      <th>3463</th>\n",
       "      <td>3499</td>\n",
       "      <td>Drive (2011)</td>\n",
       "      <td>popmatters</td>\n",
       "      <td>I used to produce movies in the eighties says ...</td>\n",
       "      <td>True</td>\n",
       "    </tr>\n",
       "    <tr>\n",
       "      <th>3464</th>\n",
       "      <td>3500</td>\n",
       "      <td>Moonrise Kingdom (2012)</td>\n",
       "      <td>popmatters</td>\n",
       "      <td>All children, except one, grow up, wrote JM Ba...</td>\n",
       "      <td>True</td>\n",
       "    </tr>\n",
       "    <tr>\n",
       "      <th>3465</th>\n",
       "      <td>3501</td>\n",
       "      <td>The Dark Knight Rises (2012)</td>\n",
       "      <td>popmatters</td>\n",
       "      <td>As of this writing I have not seen The Dark Kn...</td>\n",
       "      <td>True</td>\n",
       "    </tr>\n",
       "    <tr>\n",
       "      <th>3466</th>\n",
       "      <td>3502</td>\n",
       "      <td>Spring Breakers (2012)</td>\n",
       "      <td>popmatters</td>\n",
       "      <td>Harmony Korines Spring Breakers is a film that...</td>\n",
       "      <td>True</td>\n",
       "    </tr>\n",
       "  </tbody>\n",
       "</table>\n",
       "</div>"
      ],
      "text/plain": [
       "      index                         title      source  \\\n",
       "3462   3498              Inception (2010)  popmatters   \n",
       "3463   3499                  Drive (2011)  popmatters   \n",
       "3464   3500       Moonrise Kingdom (2012)  popmatters   \n",
       "3465   3501  The Dark Knight Rises (2012)  popmatters   \n",
       "3466   3502        Spring Breakers (2012)  popmatters   \n",
       "\n",
       "                                                 review  outcome  \n",
       "3462  This dialogue between Ben Walters and J.M. Tyr...     True  \n",
       "3463  I used to produce movies in the eighties says ...     True  \n",
       "3464  All children, except one, grow up, wrote JM Ba...     True  \n",
       "3465  As of this writing I have not seen The Dark Kn...     True  \n",
       "3466  Harmony Korines Spring Breakers is a film that...     True  "
      ]
     },
     "execution_count": 2,
     "metadata": {},
     "output_type": "execute_result"
    }
   ],
   "source": [
    "#opening the scraped critic's reviews:\n",
    "df = pd.read_csv('Movie Reviews Final(2 categories).csv')\n",
    "df['review'] = df['review'].astype(str)\n",
    "#eliminating several samples that have too few characters in the review column:\n",
    "df = df[df['review'].apply(lambda x: len(x)>1400)].reset_index()\n",
    "print(len(df))\n",
    "df.tail()\n"
   ]
  },
  {
   "cell_type": "code",
   "execution_count": 3,
   "metadata": {},
   "outputs": [],
   "source": [
    "reviews = list(df['review'].values)\n",
    "outcome = list(df['outcome'].values)\n",
    "info = df[['title', 'source']].values.tolist()"
   ]
  },
  {
   "cell_type": "markdown",
   "metadata": {},
   "source": [
    "## Tokenize and stem the reviews:"
   ]
  },
  {
   "cell_type": "code",
   "execution_count": 6,
   "metadata": {},
   "outputs": [],
   "source": [
    "stop_words = set(stopwords.words('english'))\n",
    "stop_words.update(['youve', 'theyve', 'shouldnt', 'theyll', 'werent', 'hadnt', 'hasnt', 'didnt', 'doesnt', 'wouldnt'])\n",
    "\n",
    "stemm = PorterStemmer()\n",
    "\n",
    "\n",
    "stemmed_reviews = []\n",
    "for i in reviews:\n",
    "    t1 = word_tokenize(i) #separating all the words into separate strings\n",
    "    t2 = [w.lower() for w in t1] #converting to lower-case\n",
    "    t3 = [w for w in t2 if w.isalpha()] #remove all elements that are not alpahbetical\n",
    "    t4 = [w for w in t3 if w not in stop_words] #eliminating stop-words\n",
    "    t0 = [stemm.stem(w) for w in t4]\n",
    "    stemmed_reviews.append(t0)\n",
    "    \n",
    "#getting rid of the the texts that have 100 words and less\n",
    "X=[]\n",
    "Y=[]\n",
    "G=[]\n",
    "# eliminates reviews that don't meet the threshold\n",
    "for i,e,f in zip(stemmed_reviews,outcome,info):\n",
    "    if len(i)>100:\n",
    "        X.append(i)\n",
    "        Y.append(e)\n",
    "        G.append(f)"
   ]
  },
  {
   "cell_type": "code",
   "execution_count": 7,
   "metadata": {},
   "outputs": [
    {
     "data": {
      "text/plain": [
       "Counter({True: 1905, False: 1561})"
      ]
     },
     "execution_count": 7,
     "metadata": {},
     "output_type": "execute_result"
    }
   ],
   "source": [
    "Counter(Y)"
   ]
  },
  {
   "cell_type": "markdown",
   "metadata": {},
   "source": [
    "### Cleaned sample now consists of 3466 reviews: 1905 categorized as Positive Sentiment and 1561 as Negative Sentiment\n",
    "### Longest review has of 3051 stemmed words , shortest - 119 words.\n",
    "### On average review has 483 words with standard deviation of 208.\n",
    "### Total word count(non unique) for all reviews combined is alsmot 1.6M."
   ]
  },
  {
   "cell_type": "code",
   "execution_count": 8,
   "metadata": {},
   "outputs": [
    {
     "data": {
      "text/plain": [
       "(3051, 119, 483.1, 208.2, 1674254)"
      ]
     },
     "execution_count": 8,
     "metadata": {},
     "output_type": "execute_result"
    }
   ],
   "source": [
    "max_len = max([len(i) for i in X]) #longest review(number of words)\n",
    "min_len = min([len(i) for i in X]) #shortest review(number of words)\n",
    "mean_x = np.mean([len(i) for i in X]) #average review\n",
    "std_x = np.std([len(i) for i in X]) #stadard deviation\n",
    "total_x = sum([len(i) for i in X]) #total word count/non-unique\n",
    "\n",
    "max_len, min_len, round(mean_x,1), round(std_x,1), total_x"
   ]
  },
  {
   "cell_type": "markdown",
   "metadata": {},
   "source": [
    "## Applying Bag of Words model using sklearn's CountVectorizer to convert reviews into matrixes of unique word counts and preparing to fit the data on a Logistic Regression model"
   ]
  },
  {
   "cell_type": "markdown",
   "metadata": {},
   "source": [
    "### Each sample text will be represented as a sparse matrix shaped (3466, 42567). The rows being length of sample size(there are 3466 reviews) and columns being unique word count. Each word found by the analyzer during the fit is assigned a unique integer index corresponding to a column in the resulting matrix."
   ]
  },
  {
   "cell_type": "code",
   "execution_count": 9,
   "metadata": {},
   "outputs": [
    {
     "name": "stdout",
     "output_type": "stream",
     "text": [
      "(3466, 42567)\n"
     ]
    }
   ],
   "source": [
    "from sklearn.feature_extraction.text import CountVectorizer, TfidfTransformer\n",
    "from sklearn.model_selection import train_test_split\n",
    "\n",
    "#the data fed to CountVectorizer has to be represented as joined text\n",
    "#one_hot representation of outcome will be applied for training a neural network \n",
    "X_texts = [' '.join(i) for i in X] \n",
    "Y_onehot = np.eye(2)[np.array(Y).astype(int)]\n",
    "\n",
    "\n",
    "vectorizer = CountVectorizer()\n",
    "vectorizer.fit(X_texts)\n",
    "X_asvectors = vectorizer.transform(X_texts)\n",
    "\n",
    "# Issue with this approach is that long texts have much more impact than short texts because they have more words so the matrixes have more weight. \n",
    "# To eliminate this issue, each word will be divided by total word count in the specific sample.\n",
    "tfidf = TfidfTransformer()\n",
    "X_tfidf_vectors = tfidf.fit_transform(X_asvectors)\n",
    "\n",
    "print(X_tfidf_vectors.shape)"
   ]
  },
  {
   "cell_type": "markdown",
   "metadata": {},
   "source": [
    "### Splitting the data into training and testing frames"
   ]
  },
  {
   "cell_type": "code",
   "execution_count": 12,
   "metadata": {},
   "outputs": [
    {
     "name": "stdout",
     "output_type": "stream",
     "text": [
      "Training data shape: (2772, 42567), training labels shape: (2772,) \n",
      "Validation data shape: (694, 42567), validation labels shape: (694,)\n"
     ]
    }
   ],
   "source": [
    "#data for logistic regression and SVM model:\n",
    "X_train, X_test, Y_train, Y_test = train_test_split(X_tfidf_vectors, np.array(Y), test_size=0.2, random_state=98)\n",
    "#data for neural network model:\n",
    "X_train_neur, X_test_neur, Y_train_neur, Y_test_neur = train_test_split(X_tfidf_vectors, Y_onehot, test_size=0.2, random_state=98)\n",
    "#additional data for later prediction evaluation\n",
    "G_train, G_test = train_test_split(G, test_size=0.2, random_state=98)\n",
    "print('Training data shape: %s, training labels shape: %s \\nValidation data shape: %s, validation labels shape: %s' %(X_train.shape, Y_train.shape, X_test.shape, Y_test.shape))"
   ]
  },
  {
   "cell_type": "markdown",
   "metadata": {},
   "source": [
    "### Based solely on the words being used in the reviews, Logistic regression algorithm can distinguish positive sentiment from negative sentiment with 81% accuracy"
   ]
  },
  {
   "cell_type": "code",
   "execution_count": 52,
   "metadata": {},
   "outputs": [
    {
     "name": "stdout",
     "output_type": "stream",
     "text": [
      "Accuracy score for test sample is 81% \n"
     ]
    },
    {
     "name": "stderr",
     "output_type": "stream",
     "text": [
      "C:\\Users\\g.slavinskaite\\AppData\\Local\\Continuum\\anaconda3\\lib\\site-packages\\sklearn\\linear_model\\logistic.py:433: FutureWarning: Default solver will be changed to 'lbfgs' in 0.22. Specify a solver to silence this warning.\n",
      "  FutureWarning)\n"
     ]
    }
   ],
   "source": [
    "from sklearn.linear_model import LogisticRegression\n",
    "\n",
    "log_classifier = LogisticRegression()\n",
    "log_classifier.fit(X_train, Y_train)\n",
    "acc = log_classifier.score(X_test, Y_test) *100\n",
    "print('Accuracy score for test sample is %.f%% ' % round(acc,1))"
   ]
  },
  {
   "cell_type": "markdown",
   "metadata": {},
   "source": [
    "### Using Support Vector Machines algorithm the classification is even better - 87%"
   ]
  },
  {
   "cell_type": "code",
   "execution_count": 53,
   "metadata": {},
   "outputs": [
    {
     "name": "stdout",
     "output_type": "stream",
     "text": [
      "Accuracy score for test sample is 87% \n"
     ]
    }
   ],
   "source": [
    "from sklearn.svm import SVC\n",
    "\n",
    "svc_classifier = SVC(kernel='linear', gamma='auto')  \n",
    "svc_classifier.fit(X_train, Y_train)\n",
    "acc_svc = svc_classifier.score(X_test, Y_test) *100\n",
    "print('Accuracy score for test sample is %.f%% ' % round(acc_svc,1))"
   ]
  },
  {
   "cell_type": "markdown",
   "metadata": {},
   "source": [
    "### Based on a Neural Network built with keras, categorization can be achieved with 89% accuracy"
   ]
  },
  {
   "cell_type": "code",
   "execution_count": 19,
   "metadata": {},
   "outputs": [],
   "source": [
    "from keras.models import Sequential\n",
    "from keras.layers import Dense, Dropout\n",
    "from keras.optimizers import Adam\n",
    "import tensorflow"
   ]
  },
  {
   "cell_type": "code",
   "execution_count": 48,
   "metadata": {},
   "outputs": [
    {
     "name": "stdout",
     "output_type": "stream",
     "text": [
      "Model: \"sequential_17\"\n",
      "_________________________________________________________________\n",
      "Layer (type)                 Output Shape              Param #   \n",
      "=================================================================\n",
      "dense_34 (Dense)             (None, 50)                2128400   \n",
      "_________________________________________________________________\n",
      "dropout_17 (Dropout)         (None, 50)                0         \n",
      "_________________________________________________________________\n",
      "dense_35 (Dense)             (None, 2)                 102       \n",
      "=================================================================\n",
      "Total params: 2,128,502\n",
      "Trainable params: 2,128,502\n",
      "Non-trainable params: 0\n",
      "_________________________________________________________________\n",
      "Epoch 1/30\n",
      "70/70 [==============================] - 1s 12ms/step - loss: 0.6718 - accuracy: 0.5916 - val_loss: 0.6445 - val_accuracy: 0.6816\n",
      "Epoch 2/30\n",
      "70/70 [==============================] - 1s 11ms/step - loss: 0.5401 - accuracy: 0.8405 - val_loss: 0.5439 - val_accuracy: 0.7983\n",
      "Epoch 3/30\n",
      "70/70 [==============================] - 1s 11ms/step - loss: 0.3469 - accuracy: 0.9495 - val_loss: 0.4363 - val_accuracy: 0.8458\n",
      "Epoch 4/30\n",
      "70/70 [==============================] - 1s 12ms/step - loss: 0.1946 - accuracy: 0.9805 - val_loss: 0.3635 - val_accuracy: 0.8530\n",
      "Epoch 5/30\n",
      "70/70 [==============================] - 1s 12ms/step - loss: 0.1085 - accuracy: 0.9931 - val_loss: 0.3242 - val_accuracy: 0.8602\n",
      "Epoch 6/30\n",
      "70/70 [==============================] - 1s 12ms/step - loss: 0.0674 - accuracy: 0.9982 - val_loss: 0.2940 - val_accuracy: 0.8631\n",
      "Epoch 7/30\n",
      "70/70 [==============================] - 1s 12ms/step - loss: 0.0424 - accuracy: 0.9993 - val_loss: 0.2747 - val_accuracy: 0.8732\n",
      "Epoch 8/30\n",
      "70/70 [==============================] - 1s 11ms/step - loss: 0.0313 - accuracy: 0.9993 - val_loss: 0.2671 - val_accuracy: 0.8703\n",
      "Epoch 9/30\n",
      "70/70 [==============================] - 1s 11ms/step - loss: 0.0228 - accuracy: 0.9993 - val_loss: 0.2555 - val_accuracy: 0.8876\n",
      "Epoch 10/30\n",
      "70/70 [==============================] - 1s 11ms/step - loss: 0.0195 - accuracy: 0.9996 - val_loss: 0.2561 - val_accuracy: 0.8790\n",
      "Epoch 11/30\n",
      "70/70 [==============================] - 1s 11ms/step - loss: 0.0149 - accuracy: 1.0000 - val_loss: 0.2501 - val_accuracy: 0.8876\n",
      "Epoch 12/30\n",
      "70/70 [==============================] - 1s 11ms/step - loss: 0.0131 - accuracy: 1.0000 - val_loss: 0.2444 - val_accuracy: 0.8919\n",
      "Epoch 13/30\n",
      "70/70 [==============================] - 1s 11ms/step - loss: 0.0108 - accuracy: 1.0000 - val_loss: 0.2440 - val_accuracy: 0.8876\n",
      "Epoch 14/30\n",
      "70/70 [==============================] - 1s 11ms/step - loss: 0.0098 - accuracy: 1.0000 - val_loss: 0.2409 - val_accuracy: 0.8919\n",
      "Epoch 15/30\n",
      "70/70 [==============================] - 1s 11ms/step - loss: 0.0077 - accuracy: 1.0000 - val_loss: 0.2401 - val_accuracy: 0.8905\n",
      "Epoch 16/30\n",
      "70/70 [==============================] - 1s 11ms/step - loss: 0.0066 - accuracy: 1.0000 - val_loss: 0.2409 - val_accuracy: 0.8919\n",
      "Epoch 17/30\n",
      "70/70 [==============================] - 1s 11ms/step - loss: 0.0058 - accuracy: 1.0000 - val_loss: 0.2384 - val_accuracy: 0.8977\n",
      "Epoch 18/30\n",
      "70/70 [==============================] - 1s 11ms/step - loss: 0.0052 - accuracy: 1.0000 - val_loss: 0.2399 - val_accuracy: 0.8919\n",
      "Epoch 19/30\n",
      "70/70 [==============================] - 1s 11ms/step - loss: 0.0052 - accuracy: 1.0000 - val_loss: 0.2413 - val_accuracy: 0.8919\n",
      "Epoch 20/30\n",
      "70/70 [==============================] - 1s 11ms/step - loss: 0.0044 - accuracy: 1.0000 - val_loss: 0.2390 - val_accuracy: 0.8977\n",
      "Epoch 21/30\n",
      "70/70 [==============================] - 1s 11ms/step - loss: 0.0047 - accuracy: 0.9996 - val_loss: 0.2394 - val_accuracy: 0.8991\n",
      "Epoch 22/30\n",
      "70/70 [==============================] - 1s 11ms/step - loss: 0.0034 - accuracy: 1.0000 - val_loss: 0.2400 - val_accuracy: 0.8977\n",
      "Epoch 23/30\n",
      "70/70 [==============================] - 1s 11ms/step - loss: 0.0035 - accuracy: 1.0000 - val_loss: 0.2402 - val_accuracy: 0.8991\n",
      "Epoch 24/30\n",
      "70/70 [==============================] - 1s 11ms/step - loss: 0.0032 - accuracy: 1.0000 - val_loss: 0.2411 - val_accuracy: 0.8963\n",
      "Epoch 25/30\n",
      "70/70 [==============================] - 1s 11ms/step - loss: 0.0024 - accuracy: 1.0000 - val_loss: 0.2411 - val_accuracy: 0.9020\n",
      "Epoch 26/30\n",
      "70/70 [==============================] - 1s 11ms/step - loss: 0.0029 - accuracy: 1.0000 - val_loss: 0.2414 - val_accuracy: 0.8991\n",
      "Epoch 27/30\n",
      "70/70 [==============================] - 1s 11ms/step - loss: 0.0023 - accuracy: 1.0000 - val_loss: 0.2419 - val_accuracy: 0.8919\n",
      "Epoch 28/30\n",
      "70/70 [==============================] - 1s 11ms/step - loss: 0.0023 - accuracy: 1.0000 - val_loss: 0.2399 - val_accuracy: 0.8991\n",
      "Epoch 29/30\n",
      "70/70 [==============================] - 1s 11ms/step - loss: 0.0023 - accuracy: 1.0000 - val_loss: 0.2402 - val_accuracy: 0.8948\n",
      "Epoch 30/30\n",
      "70/70 [==============================] - 1s 11ms/step - loss: 0.0018 - accuracy: 1.0000 - val_loss: 0.2409 - val_accuracy: 0.8948\n"
     ]
    }
   ],
   "source": [
    "input_dim = X_train_neur.shape[1]  # Number of features (i.e. unique words)\n",
    "\n",
    "neuralmodel = Sequential()\n",
    "neuralmodel.add(Dense(50, input_dim=input_dim, activation='relu'))\n",
    "neuralmodel.add(Dropout(0.55))\n",
    "neuralmodel.add(Dense(2, activation='softmax'))\n",
    "\n",
    "neuralmodel.compile(loss='binary_crossentropy', optimizer='adam', metrics=['accuracy'])\n",
    "neuralmodel.summary()\n",
    "\n",
    "X_train_neur.sort_indices() \n",
    "X_test_neur.sort_indices() \n",
    "history = neuralmodel.fit(X_train_neur, Y_train_neur, epochs=30, batch_size=40, validation_data=(X_test_neur, Y_test_neur))"
   ]
  },
  {
   "cell_type": "markdown",
   "metadata": {},
   "source": [
    "## Training accuracy and loss versus validation accuracy and loss during the 30 learning epochs plotted"
   ]
  },
  {
   "cell_type": "code",
   "execution_count": 51,
   "metadata": {},
   "outputs": [
    {
     "data": {
      "image/png": "[encoded data removed]",
      "text/plain": [
       "<Figure size 1152x360 with 2 Axes>"
      ]
     },
     "metadata": {
      "needs_background": "light"
     },
     "output_type": "display_data"
    }
   ],
   "source": [
    "fig = plt.figure(figsize=(16,5))\n",
    "ax1 = fig.add_subplot(121)\n",
    "ax2 = fig.add_subplot(122)\n",
    "ax1.plot(history.epoch, history.history['loss'], c='k', label='Training')\n",
    "ax1.plot(history.epoch, history.history['val_loss'], c='r', label='Testing')\n",
    "ax1.set_xlabel('epoch')\n",
    "ax1.set_ylabel('loss', size=18)\n",
    "ax1.legend()\n",
    "\n",
    "ax2.plot(history.epoch, history.history['accuracy'], c='k', label='Training')\n",
    "ax2.plot(history.epoch, history.history['val_accuracy'], c='r', label='Testing')\n",
    "ax2.set_xlabel('epoch')\n",
    "ax2.set_ylabel('accuracy', size=18)\n",
    "ax2.legend();"
   ]
  },
  {
   "cell_type": "markdown",
   "metadata": {},
   "source": [
    "## Positive and negative sentiments are predicted with almost the same accuracy:"
   ]
  },
  {
   "cell_type": "code",
   "execution_count": 52,
   "metadata": {},
   "outputs": [
    {
     "data": {
      "image/png": "[encoded data removed]",
      "text/plain": [
       "<Figure size 432x288 with 1 Axes>"
      ]
     },
     "metadata": {
      "needs_background": "light"
     },
     "output_type": "display_data"
    }
   ],
   "source": [
    "import itertools\n",
    "from sklearn.metrics import confusion_matrix\n",
    "\n",
    "predictions = neuralmodel.predict(X_test_neur)\n",
    "matri=confusion_matrix(Y_test_neur.argmax(axis=1), predictions.argmax(axis=1))\n",
    "normalized_matrix=matri/matri.sum(axis=1)[:, np.newaxis] *100\n",
    "\n",
    "height, width = normalized_matrix.shape\n",
    "\n",
    "fig = plt.figure()\n",
    "ax = fig.add_subplot(111, aspect='equal')\n",
    "for x in range(width):\n",
    "    for y in range(height):\n",
    "        ax.annotate(str(normalized_matrix[x][y].round(2))+' %', xy=(y, x), ha='center', va='center', size=15)\n",
    "offset = 0.5\n",
    "plt.xticks([0,1], ['Negative Sentiment','Positive Sentiment'], rotation=45)\n",
    "plt.yticks([0,1], ['Negative Sentiment','Positive Sentiment'], rotation=45)\n",
    "plt.xlabel('Predicted', size=20)\n",
    "plt.ylabel('Actual', size=20)\n",
    "ax.hlines(y=np.arange(height+1)- offset, xmin=-offset, xmax=width-offset)\n",
    "ax.vlines(x=np.arange(width+1) - offset, ymin=-offset, ymax=height-offset);"
   ]
  },
  {
   "cell_type": "markdown",
   "metadata": {},
   "source": [
    "## Model is making correct predictions with more confidence:"
   ]
  },
  {
   "cell_type": "code",
   "execution_count": 54,
   "metadata": {},
   "outputs": [
    {
     "data": {
      "image/png": "[encoded data removed]",
      "text/plain": [
       "<Figure size 432x288 with 1 Axes>"
      ]
     },
     "metadata": {
      "needs_background": "light"
     },
     "output_type": "display_data"
    }
   ],
   "source": [
    "import seaborn as sns\n",
    "#function extracting predicted outcome and the confidence from softmax\n",
    "def pred_confidence(y_predicted, y_test):\n",
    "    real = np.argmax(y_test, axis=1)\n",
    "    pred = np.argmax(y_predicted, axis=1)\n",
    "    prob = np.max(y_predicted, axis=1)\n",
    "    accuracy=[]\n",
    "    for i in range(len(real)):\n",
    "        if real[i]==pred[i]:\n",
    "            accuracy.append('Correct prediction')\n",
    "        else:\n",
    "            accuracy.append('Incorrect prediction')\n",
    "    return pd.DataFrame({'predicted_outcome': pred, 'confidence': prob, 'accurate':accuracy})\n",
    "\n",
    "confid = pred_confidence(predictions, Y_test_neur)\n",
    "\n",
    "p=sns.violinplot('predicted_outcome', 'confidence', data=confid, hue='accurate', split=True)\n",
    "p.legend(loc='lower center')\n",
    "plt.title('Confidence for Predicted Outcome', size=15);"
   ]
  },
  {
   "cell_type": "code",
   "execution_count": 55,
   "metadata": {},
   "outputs": [
    {
     "data": {
      "text/html": [
       "<div>\n",
       "<style scoped>\n",
       "    .dataframe tbody tr th:only-of-type {\n",
       "        vertical-align: middle;\n",
       "    }\n",
       "\n",
       "    .dataframe tbody tr th {\n",
       "        vertical-align: top;\n",
       "    }\n",
       "\n",
       "    .dataframe thead th {\n",
       "        text-align: right;\n",
       "    }\n",
       "</style>\n",
       "<table border=\"1\" class=\"dataframe\">\n",
       "  <thead>\n",
       "    <tr style=\"text-align: right;\">\n",
       "      <th></th>\n",
       "      <th>title</th>\n",
       "      <th>source</th>\n",
       "      <th>accurate</th>\n",
       "      <th>predicted_outcome</th>\n",
       "      <th>confidence</th>\n",
       "    </tr>\n",
       "  </thead>\n",
       "  <tbody>\n",
       "    <tr>\n",
       "      <th>689</th>\n",
       "      <td>Hard Candy (2005)</td>\n",
       "      <td>reel</td>\n",
       "      <td>1</td>\n",
       "      <td>1</td>\n",
       "      <td>0.999826</td>\n",
       "    </tr>\n",
       "    <tr>\n",
       "      <th>690</th>\n",
       "      <td>This Boy's Life (1993)</td>\n",
       "      <td>ebert</td>\n",
       "      <td>1</td>\n",
       "      <td>1</td>\n",
       "      <td>0.603123</td>\n",
       "    </tr>\n",
       "    <tr>\n",
       "      <th>691</th>\n",
       "      <td>The Theory of Everything (2014)</td>\n",
       "      <td>nytimes</td>\n",
       "      <td>1</td>\n",
       "      <td>0</td>\n",
       "      <td>0.967419</td>\n",
       "    </tr>\n",
       "    <tr>\n",
       "      <th>692</th>\n",
       "      <td>A Serious Man (2009)</td>\n",
       "      <td>ebert</td>\n",
       "      <td>1</td>\n",
       "      <td>1</td>\n",
       "      <td>0.998620</td>\n",
       "    </tr>\n",
       "    <tr>\n",
       "      <th>693</th>\n",
       "      <td>Midnight Run (1988)</td>\n",
       "      <td>nytimes</td>\n",
       "      <td>1</td>\n",
       "      <td>0</td>\n",
       "      <td>0.717858</td>\n",
       "    </tr>\n",
       "  </tbody>\n",
       "</table>\n",
       "</div>"
      ],
      "text/plain": [
       "                               title   source  accurate  predicted_outcome  \\\n",
       "689                Hard Candy (2005)     reel         1                  1   \n",
       "690           This Boy's Life (1993)    ebert         1                  1   \n",
       "691  The Theory of Everything (2014)  nytimes         1                  0   \n",
       "692             A Serious Man (2009)    ebert         1                  1   \n",
       "693              Midnight Run (1988)  nytimes         1                  0   \n",
       "\n",
       "     confidence  \n",
       "689    0.999826  \n",
       "690    0.603123  \n",
       "691    0.967419  \n",
       "692    0.998620  \n",
       "693    0.717858  "
      ]
     },
     "execution_count": 55,
     "metadata": {},
     "output_type": "execute_result"
    }
   ],
   "source": [
    "test_title_source = pd.DataFrame(G_test, columns=['title', 'source'])\n",
    "test_info = pd.concat([confid, test_title_source], axis=1)\n",
    "test_info = test_info[['title', 'source', 'accurate', 'predicted_outcome', 'confidence']]\n",
    "test_info['accurate'] = test_info['accurate'].map({'Correct prediction': 1, 'Incorrect prediction': 0})\n",
    "test_info.tail()"
   ]
  },
  {
   "cell_type": "markdown",
   "metadata": {},
   "source": [
    "## Checking how accurate the prediction is for different review source:"
   ]
  },
  {
   "cell_type": "code",
   "execution_count": 56,
   "metadata": {},
   "outputs": [
    {
     "name": "stdout",
     "output_type": "stream",
     "text": [
      "ebert critic testing sample size is 174, accuracy for testing data is 81.6%\n",
      "nytimes critic testing sample size is 115, accuracy for testing data is 87.0%\n",
      "reel critic testing sample size is 119, accuracy for testing data is 95.8%\n",
      "cinefile critic testing sample size is 128, accuracy for testing data is 95.3%\n",
      "alibi critic testing sample size is 37, accuracy for testing data is 97.3%\n",
      "metropolitan critic testing sample size is 15, accuracy for testing data is 73.3%\n",
      "bright_lights critic testing sample size is 5, accuracy for testing data is 80.0%\n",
      "3brothers critic testing sample size is 9, accuracy for testing data is 77.8%\n"
     ]
    }
   ],
   "source": [
    "src=[]\n",
    "count=[]\n",
    "acc=[]\n",
    "for i in ['ebert', 'nytimes', 'reel', 'cinefile', 'alibi', 'metropolitan', 'bright_lights', '3brothers']:\n",
    "    critic = test_info[test_info['source'] == i]\n",
    "    print('%s critic testing sample size is %d, accuracy for testing data is %.1f%%' % (i,len(critic),round(np.mean(critic['accurate'].values)*100,1)))\n",
    "    if len(critic)>70:\n",
    "        src.append(i)\n",
    "        count.append(len(critic))\n",
    "        acc.append(sum(critic['accurate']))"
   ]
  },
  {
   "cell_type": "markdown",
   "metadata": {},
   "source": [
    "## Appears that UrbanCinefile and ReelView critic reviews are being categorized more accurately"
   ]
  },
  {
   "cell_type": "code",
   "execution_count": 59,
   "metadata": {},
   "outputs": [
    {
     "data": {
      "image/png": "[encoded data removed]",
      "text/plain": [
       "<Figure size 432x288 with 1 Axes>"
      ]
     },
     "metadata": {
      "needs_background": "light"
     },
     "output_type": "display_data"
    }
   ],
   "source": [
    "p1 = plt.bar(src, count)\n",
    "p2 = plt.bar(src, acc, alpha=0.8)\n",
    "plt.ylabel('Review count')\n",
    "plt.xticks(src, ('Roger Ebert reviews', 'New York Times reviews', 'ReelViews.net', 'UrbanCinefile.com.au'), rotation=50)\n",
    "plt.legend((p1[0], p2[0]), ('Incorrect Prediction', 'Correct Prediction'));"
   ]
  },
  {
   "cell_type": "code",
   "execution_count": null,
   "metadata": {},
   "outputs": [],
   "source": []
  }
 ],
 "metadata": {
  "kernelspec": {
   "display_name": "Python 3",
   "language": "python",
   "name": "python3"
  },
  "language_info": {
   "codemirror_mode": {
    "name": "ipython",
    "version": 3
   },
   "file_extension": ".py",
   "mimetype": "text/x-python",
   "name": "python",
   "nbconvert_exporter": "python",
   "pygments_lexer": "ipython3",
   "version": "3.7.3"
  }
 },
 "nbformat": 4,
 "nbformat_minor": 2
}
