{
 "cells": [
  {
   "cell_type": "code",
   "execution_count": 6,
   "metadata": {},
   "outputs": [
    {
     "name": "stdout",
     "output_type": "stream",
     "text": [
      "[nltk_data] Downloading package punkt to /Users/gabaslava/nltk_data...\n",
      "[nltk_data]   Package punkt is already up-to-date!\n",
      "[nltk_data] Downloading package wordnet to\n",
      "[nltk_data]     /Users/gabaslava/nltk_data...\n",
      "[nltk_data]   Package wordnet is already up-to-date!\n"
     ]
    },
    {
     "data": {
      "text/plain": [
       "True"
      ]
     },
     "execution_count": 6,
     "metadata": {},
     "output_type": "execute_result"
    }
   ],
   "source": [
    "import pandas as pd\n",
    "import numpy as np\n",
    "import matplotlib.pyplot as plt\n",
    "from collections import Counter\n",
    "\n",
    "import nltk\n",
    "from nltk.tokenize import word_tokenize\n",
    "nltk.download('punkt')\n",
    "from nltk.corpus import stopwords\n",
    "stop_words = set(stopwords.words('english'))\n",
    "from nltk.stem import PorterStemmer\n",
    "nltk.download('wordnet')"
   ]
  },
  {
   "cell_type": "markdown",
   "metadata": {},
   "source": [
    "# Critic's reviews "
   ]
  },
  {
   "cell_type": "markdown",
   "metadata": {},
   "source": [
    "## Dataframe consisting of movie title, review, source of the review, and label\n",
    "### There are 2763 samples"
   ]
  },
  {
   "cell_type": "code",
   "execution_count": 2,
   "metadata": {},
   "outputs": [
    {
     "data": {
      "text/html": [
       "<div>\n",
       "<style scoped>\n",
       "    .dataframe tbody tr th:only-of-type {\n",
       "        vertical-align: middle;\n",
       "    }\n",
       "\n",
       "    .dataframe tbody tr th {\n",
       "        vertical-align: top;\n",
       "    }\n",
       "\n",
       "    .dataframe thead th {\n",
       "        text-align: right;\n",
       "    }\n",
       "</style>\n",
       "<table border=\"1\" class=\"dataframe\">\n",
       "  <thead>\n",
       "    <tr style=\"text-align: right;\">\n",
       "      <th></th>\n",
       "      <th>index</th>\n",
       "      <th>title</th>\n",
       "      <th>source</th>\n",
       "      <th>review</th>\n",
       "      <th>outcome</th>\n",
       "    </tr>\n",
       "  </thead>\n",
       "  <tbody>\n",
       "    <tr>\n",
       "      <th>0</th>\n",
       "      <td>0</td>\n",
       "      <td>Manchester by the Sea (2016)</td>\n",
       "      <td>3brothers</td>\n",
       "      <td>It’s hard to resist the stubborn, agonizing ch...</td>\n",
       "      <td>1</td>\n",
       "    </tr>\n",
       "    <tr>\n",
       "      <th>1</th>\n",
       "      <td>1</td>\n",
       "      <td>Eastern Promises (2007)</td>\n",
       "      <td>3brothers</td>\n",
       "      <td>I remember Eastern Promises as a blunt physica...</td>\n",
       "      <td>0</td>\n",
       "    </tr>\n",
       "    <tr>\n",
       "      <th>2</th>\n",
       "      <td>2</td>\n",
       "      <td>'71 (2014)</td>\n",
       "      <td>3brothers</td>\n",
       "      <td>Yann Demange’s ’71 is a rare contemporary exam...</td>\n",
       "      <td>1</td>\n",
       "    </tr>\n",
       "    <tr>\n",
       "      <th>3</th>\n",
       "      <td>3</td>\n",
       "      <td>A History of Violence (2005)</td>\n",
       "      <td>3brothers</td>\n",
       "      <td>At first glance, A History of Violence appears...</td>\n",
       "      <td>0</td>\n",
       "    </tr>\n",
       "    <tr>\n",
       "      <th>4</th>\n",
       "      <td>4</td>\n",
       "      <td>Dead Ringers (1988)</td>\n",
       "      <td>3brothers</td>\n",
       "      <td>Dead Ringers is among the saddest and stranges...</td>\n",
       "      <td>1</td>\n",
       "    </tr>\n",
       "  </tbody>\n",
       "</table>\n",
       "</div>"
      ],
      "text/plain": [
       "   index                         title     source  \\\n",
       "0      0  Manchester by the Sea (2016)  3brothers   \n",
       "1      1       Eastern Promises (2007)  3brothers   \n",
       "2      2                    '71 (2014)  3brothers   \n",
       "3      3  A History of Violence (2005)  3brothers   \n",
       "4      4           Dead Ringers (1988)  3brothers   \n",
       "\n",
       "                                              review  outcome  \n",
       "0  It’s hard to resist the stubborn, agonizing ch...        1  \n",
       "1  I remember Eastern Promises as a blunt physica...        0  \n",
       "2  Yann Demange’s ’71 is a rare contemporary exam...        1  \n",
       "3  At first glance, A History of Violence appears...        0  \n",
       "4  Dead Ringers is among the saddest and stranges...        1  "
      ]
     },
     "execution_count": 2,
     "metadata": {},
     "output_type": "execute_result"
    }
   ],
   "source": [
    "#opening the scraped critic's reviews:\n",
    "df = pd.read_csv('title_review_outcome.csv')\n",
    "df['review'] = df['review'].astype(str)\n",
    "#eliminating 21 rows that have too few characters in the review column:\n",
    "df = df[df['review'].apply(lambda x: len(x)>400)].reset_index()\n",
    "df.head()"
   ]
  },
  {
   "cell_type": "code",
   "execution_count": 3,
   "metadata": {},
   "outputs": [
    {
     "data": {
      "text/plain": [
       "2763"
      ]
     },
     "execution_count": 3,
     "metadata": {},
     "output_type": "execute_result"
    }
   ],
   "source": [
    "len(df)"
   ]
  },
  {
   "cell_type": "code",
   "execution_count": 4,
   "metadata": {},
   "outputs": [],
   "source": [
    "reviews = list(df['review'].values)\n",
    "outcome = list(df['outcome'].values)\n",
    "info = df[['title', 'source']].values.tolist() "
   ]
  },
  {
   "cell_type": "markdown",
   "metadata": {},
   "source": [
    "## Tokenize and stem the reviews:"
   ]
  },
  {
   "cell_type": "code",
   "execution_count": 7,
   "metadata": {},
   "outputs": [],
   "source": [
    "stop_words = set(stopwords.words('english'))\n",
    "stop_words.update(['youve', 'theyve', 'shouldnt', 'theyll', 'werent', 'hadnt', 'everyones'])\n",
    "\n",
    "stemm = PorterStemmer()\n",
    "\n",
    "\n",
    "stemmed_reviews = []\n",
    "for i in reviews:\n",
    "    t1 = word_tokenize(i) #separating all the words into separate strings\n",
    "    t2 = [w.lower() for w in t1] #converting to lower-case\n",
    "    t3 = [w for w in t2 if w.isalpha()] #remove all elements that are not alpahbetical\n",
    "    t4 = [w for w in t3 if w not in stop_words] #eliminating stop-words\n",
    "    t0 = [stemm.stem(w) for w in t4]\n",
    "    stemmed_reviews.append(t0)\n",
    "    \n",
    "#getting rid of the the texts that have 100 words and less\n",
    "X=[]\n",
    "Y=[]\n",
    "G=[]\n",
    "# eliminates 14reviews that don't meet the threshold\n",
    "for i,e,f in zip(stemmed_reviews,outcome,info):\n",
    "    if len(i)>100:\n",
    "        X.append(i)\n",
    "        Y.append(e)\n",
    "        G.append(f)"
   ]
  },
  {
   "cell_type": "code",
   "execution_count": 8,
   "metadata": {},
   "outputs": [
    {
     "data": {
      "text/plain": [
       "Counter({1: 1381, 0: 1368})"
      ]
     },
     "execution_count": 8,
     "metadata": {},
     "output_type": "execute_result"
    }
   ],
   "source": [
    "Counter(Y)"
   ]
  },
  {
   "cell_type": "markdown",
   "metadata": {},
   "source": [
    "### Cleaned sample now consists of 2749 reviews: 1381 categorized as Positive Sentiment and 1368 as Negative Sentiment"
   ]
  },
  {
   "cell_type": "markdown",
   "metadata": {},
   "source": [
    "### Longest review has of 5615 stemmed words , shortest - 102 words.\n",
    "### On average review has 491 words with standard deviation of 261.\n",
    "### Total word count(non unique) for all reviews combined is over 1.3M."
   ]
  },
  {
   "cell_type": "code",
   "execution_count": 9,
   "metadata": {},
   "outputs": [
    {
     "data": {
      "text/plain": [
       "(5615, 102, 491.8, 261.9, 1351979)"
      ]
     },
     "execution_count": 9,
     "metadata": {},
     "output_type": "execute_result"
    }
   ],
   "source": [
    "max_len = max([len(i) for i in X]) #longest review(number of words)\n",
    "min_len = min([len(i) for i in X]) #shortest review(number of words)\n",
    "mean_x = np.mean([len(i) for i in X]) #average review\n",
    "std_x = np.std([len(i) for i in X]) #stadard deviation\n",
    "total_x = sum([len(i) for i in X]) #total word count/non-unique\n",
    "\n",
    "max_len, min_len, round(mean_x,1), round(std_x,1), total_x "
   ]
  },
  {
   "cell_type": "markdown",
   "metadata": {},
   "source": [
    "# Applying Bag of Words model using sklearn's CountVectorizer to convert reviews into matrixes of unique word counts and preparing to fit the data on a Logistic Regression model\n",
    "\n",
    "### Each sample text will be represented as a sparse matrix shaped (2749, 35363). The rows being length of sample size(there are 2749 reviews) and columns being unique word count. Each word found by the analyzer during the fit is assigned a unique integer index corresponding to a column in the resulting matrix."
   ]
  },
  {
   "cell_type": "code",
   "execution_count": 10,
   "metadata": {},
   "outputs": [
    {
     "name": "stdout",
     "output_type": "stream",
     "text": [
      "(2749, 35363)\n"
     ]
    }
   ],
   "source": [
    "from sklearn.feature_extraction.text import CountVectorizer, TfidfTransformer\n",
    "from sklearn.model_selection import train_test_split\n",
    "\n",
    "#the data fed to CountVectorizer has to be represented as joined text\n",
    "#one_hot representation of outcome will be applied for training a neural network \n",
    "X_texts = [' '.join(i) for i in X] \n",
    "Y_onehot = np.eye(2)[np.array(Y)]\n",
    "\n",
    "\n",
    "vectorizer = CountVectorizer()\n",
    "vectorizer.fit(X_texts)\n",
    "X_asvectors = vectorizer.transform(X_texts)\n",
    "\n",
    "# Issue with this approach is that long texts have much more impact than short texts because they have more words so the matrixes have more weight. \n",
    "# To eliminate this issue, each word will be divided by total word count in the specific sample.\n",
    "tfidf = TfidfTransformer()\n",
    "X_tfidf_vectors = tfidf.fit_transform(X_asvectors)\n",
    "\n",
    "print(X_tfidf_vectors.shape)"
   ]
  },
  {
   "cell_type": "markdown",
   "metadata": {},
   "source": [
    "### Splitting the data into training and testing frames"
   ]
  },
  {
   "cell_type": "code",
   "execution_count": 11,
   "metadata": {},
   "outputs": [
    {
     "name": "stdout",
     "output_type": "stream",
     "text": [
      "Training data shape: (2199, 35363), training labels shape: (2199,) \n",
      "Validation data shape: (550, 35363), validation labels shape: (550,)\n"
     ]
    }
   ],
   "source": [
    "#data for logistic regression and SVM model:\n",
    "X_train, X_test, Y_train, Y_test = train_test_split(X_tfidf_vectors, np.array(Y), test_size=0.2, random_state=98)\n",
    "#data for neural network model:\n",
    "X_train_neur, X_test_neur, Y_train_neur, Y_test_neur = train_test_split(X_tfidf_vectors, Y_onehot, test_size=0.2, random_state=98)\n",
    "#additional data for later prediction evaluation\n",
    "G_train, G_test = train_test_split(G, test_size=0.2, random_state=98)\n",
    "print('Training data shape: %s, training labels shape: %s \\nValidation data shape: %s, validation labels shape: %s' %(X_train.shape, Y_train.shape, X_test.shape, Y_test.shape))"
   ]
  },
  {
   "cell_type": "markdown",
   "metadata": {},
   "source": [
    "### Based solely on the words being used in the reviews, Logistic regression algorithm can distinguish positive sentiment from negative sentiment with 84% accuracy"
   ]
  },
  {
   "cell_type": "code",
   "execution_count": 12,
   "metadata": {},
   "outputs": [
    {
     "name": "stdout",
     "output_type": "stream",
     "text": [
      "Accuracy score for test sample is 84% \n"
     ]
    },
    {
     "name": "stderr",
     "output_type": "stream",
     "text": [
      "/anaconda3/lib/python3.6/site-packages/sklearn/linear_model/logistic.py:433: FutureWarning: Default solver will be changed to 'lbfgs' in 0.22. Specify a solver to silence this warning.\n",
      "  FutureWarning)\n"
     ]
    }
   ],
   "source": [
    "from sklearn.linear_model import LogisticRegression\n",
    "\n",
    "log_classifier = LogisticRegression()\n",
    "log_classifier.fit(X_train, Y_train)\n",
    "acc = log_classifier.score(X_test, Y_test) *100\n",
    "print('Accuracy score for test sample is %.f%% ' % round(acc,1))"
   ]
  },
  {
   "cell_type": "markdown",
   "metadata": {},
   "source": [
    "### Using Support Vector Machines algorithm the classification is even better - 87%"
   ]
  },
  {
   "cell_type": "code",
   "execution_count": 13,
   "metadata": {},
   "outputs": [
    {
     "name": "stdout",
     "output_type": "stream",
     "text": [
      "Accuracy score for test sample is 87% \n"
     ]
    }
   ],
   "source": [
    "from sklearn.svm import SVC\n",
    "\n",
    "svc_classifier = SVC(kernel='linear', gamma='auto')  \n",
    "svc_classifier.fit(X_train, Y_train)\n",
    "acc_svc = svc_classifier.score(X_test, Y_test) *100\n",
    "print('Accuracy score for test sample is %.f%% ' % round(acc_svc,1))"
   ]
  },
  {
   "cell_type": "markdown",
   "metadata": {},
   "source": [
    "### Based on a Neural Network built with keras, categorization can be achieved with 90% accuracy"
   ]
  },
  {
   "cell_type": "code",
   "execution_count": 14,
   "metadata": {},
   "outputs": [
    {
     "name": "stderr",
     "output_type": "stream",
     "text": [
      "Using TensorFlow backend.\n"
     ]
    }
   ],
   "source": [
    "from keras.models import Sequential\n",
    "from keras.layers import Dense, Dropout\n",
    "from keras.optimizers import Adam"
   ]
  },
  {
   "cell_type": "code",
   "execution_count": 27,
   "metadata": {},
   "outputs": [
    {
     "name": "stdout",
     "output_type": "stream",
     "text": [
      "_________________________________________________________________\n",
      "Layer (type)                 Output Shape              Param #   \n",
      "=================================================================\n",
      "dense_3 (Dense)              (None, 50)                1768200   \n",
      "_________________________________________________________________\n",
      "dropout_2 (Dropout)          (None, 50)                0         \n",
      "_________________________________________________________________\n",
      "dense_4 (Dense)              (None, 2)                 102       \n",
      "=================================================================\n",
      "Total params: 1,768,302\n",
      "Trainable params: 1,768,302\n",
      "Non-trainable params: 0\n",
      "_________________________________________________________________\n",
      "Train on 2199 samples, validate on 550 samples\n",
      "Epoch 1/30\n",
      "2199/2199 [==============================] - 7s 3ms/step - loss: 0.6842 - acc: 0.6171 - val_loss: 0.6690 - val_acc: 0.7509\n",
      "Epoch 2/30\n",
      "2199/2199 [==============================] - 5s 2ms/step - loss: 0.5951 - acc: 0.8818 - val_loss: 0.6010 - val_acc: 0.7891\n",
      "Epoch 3/30\n",
      "2199/2199 [==============================] - 5s 2ms/step - loss: 0.4294 - acc: 0.9513 - val_loss: 0.5081 - val_acc: 0.8545\n",
      "Epoch 4/30\n",
      "2199/2199 [==============================] - 5s 2ms/step - loss: 0.2728 - acc: 0.9795 - val_loss: 0.4309 - val_acc: 0.8600\n",
      "Epoch 5/30\n",
      "2199/2199 [==============================] - 4s 2ms/step - loss: 0.1656 - acc: 0.9918 - val_loss: 0.3789 - val_acc: 0.8745\n",
      "Epoch 6/30\n",
      "2199/2199 [==============================] - 4s 2ms/step - loss: 0.1031 - acc: 0.9968 - val_loss: 0.3438 - val_acc: 0.8855\n",
      "Epoch 7/30\n",
      "2199/2199 [==============================] - 4s 2ms/step - loss: 0.0707 - acc: 0.9991 - val_loss: 0.3193 - val_acc: 0.8927\n",
      "Epoch 8/30\n",
      "2199/2199 [==============================] - 4s 2ms/step - loss: 0.0523 - acc: 0.9995 - val_loss: 0.3044 - val_acc: 0.8982\n",
      "Epoch 9/30\n",
      "2199/2199 [==============================] - 4s 2ms/step - loss: 0.0381 - acc: 0.9995 - val_loss: 0.2949 - val_acc: 0.8982\n",
      "Epoch 10/30\n",
      "2199/2199 [==============================] - 4s 2ms/step - loss: 0.0306 - acc: 1.0000 - val_loss: 0.2875 - val_acc: 0.8964\n",
      "Epoch 11/30\n",
      "2199/2199 [==============================] - 4s 2ms/step - loss: 0.0224 - acc: 1.0000 - val_loss: 0.2827 - val_acc: 0.8945\n",
      "Epoch 12/30\n",
      "2199/2199 [==============================] - 5s 2ms/step - loss: 0.0204 - acc: 1.0000 - val_loss: 0.2778 - val_acc: 0.8945\n",
      "Epoch 13/30\n",
      "2199/2199 [==============================] - 4s 2ms/step - loss: 0.0165 - acc: 1.0000 - val_loss: 0.2768 - val_acc: 0.8964\n",
      "Epoch 14/30\n",
      "2199/2199 [==============================] - 4s 2ms/step - loss: 0.0138 - acc: 1.0000 - val_loss: 0.2744 - val_acc: 0.8927\n",
      "Epoch 15/30\n",
      "2199/2199 [==============================] - 5s 2ms/step - loss: 0.0122 - acc: 1.0000 - val_loss: 0.2733 - val_acc: 0.9000\n",
      "Epoch 16/30\n",
      "2199/2199 [==============================] - 5s 2ms/step - loss: 0.0110 - acc: 1.0000 - val_loss: 0.2699 - val_acc: 0.8982\n",
      "Epoch 17/30\n",
      "2199/2199 [==============================] - 4s 2ms/step - loss: 0.0092 - acc: 1.0000 - val_loss: 0.2692 - val_acc: 0.9036\n",
      "Epoch 18/30\n",
      "2199/2199 [==============================] - 5s 2ms/step - loss: 0.0087 - acc: 1.0000 - val_loss: 0.2681 - val_acc: 0.9018\n",
      "Epoch 19/30\n",
      "2199/2199 [==============================] - 5s 2ms/step - loss: 0.0071 - acc: 1.0000 - val_loss: 0.2684 - val_acc: 0.9018\n",
      "Epoch 20/30\n",
      "2199/2199 [==============================] - 5s 2ms/step - loss: 0.0063 - acc: 1.0000 - val_loss: 0.2676 - val_acc: 0.8982\n",
      "Epoch 21/30\n",
      "2199/2199 [==============================] - 5s 2ms/step - loss: 0.0063 - acc: 1.0000 - val_loss: 0.2673 - val_acc: 0.8982\n",
      "Epoch 22/30\n",
      "2199/2199 [==============================] - 4s 2ms/step - loss: 0.0060 - acc: 0.9995 - val_loss: 0.2681 - val_acc: 0.9000\n",
      "Epoch 23/30\n",
      "2199/2199 [==============================] - 4s 2ms/step - loss: 0.0054 - acc: 1.0000 - val_loss: 0.2671 - val_acc: 0.8982\n",
      "Epoch 24/30\n",
      "2199/2199 [==============================] - 5s 2ms/step - loss: 0.0046 - acc: 1.0000 - val_loss: 0.2673 - val_acc: 0.9036\n",
      "Epoch 25/30\n",
      "2199/2199 [==============================] - 5s 2ms/step - loss: 0.0040 - acc: 1.0000 - val_loss: 0.2678 - val_acc: 0.9055\n",
      "Epoch 26/30\n",
      "2199/2199 [==============================] - 4s 2ms/step - loss: 0.0044 - acc: 1.0000 - val_loss: 0.2688 - val_acc: 0.9055\n",
      "Epoch 27/30\n",
      "2199/2199 [==============================] - 5s 2ms/step - loss: 0.0038 - acc: 1.0000 - val_loss: 0.2698 - val_acc: 0.9036\n",
      "Epoch 28/30\n",
      "2199/2199 [==============================] - 4s 2ms/step - loss: 0.0034 - acc: 1.0000 - val_loss: 0.2702 - val_acc: 0.9073\n",
      "Epoch 29/30\n",
      "2199/2199 [==============================] - 5s 2ms/step - loss: 0.0034 - acc: 1.0000 - val_loss: 0.2690 - val_acc: 0.9036\n",
      "Epoch 30/30\n",
      "2199/2199 [==============================] - 4s 2ms/step - loss: 0.0030 - acc: 1.0000 - val_loss: 0.2711 - val_acc: 0.9055\n"
     ]
    }
   ],
   "source": [
    "input_dim = X_train_neur.shape[1]  # Number of features (i.e. unique words)\n",
    "\n",
    "neuralmodel = Sequential()\n",
    "neuralmodel.add(Dense(50, input_dim=input_dim, activation='relu'))\n",
    "neuralmodel.add(Dropout(0.5))\n",
    "neuralmodel.add(Dense(2, activation='softmax'))\n",
    "\n",
    "neuralmodel.compile(loss='binary_crossentropy', optimizer='adam', metrics=['accuracy'])\n",
    "neuralmodel.summary()\n",
    "\n",
    "history = neuralmodel.fit(X_train_neur, Y_train_neur, epochs=30, batch_size=50, validation_data=(X_test_neur, Y_test_neur))"
   ]
  },
  {
   "cell_type": "markdown",
   "metadata": {},
   "source": [
    "### Training accuracy and loss versus validation accuracy and loss during the 30 learning epochs plotted"
   ]
  },
  {
   "cell_type": "code",
   "execution_count": 28,
   "metadata": {},
   "outputs": [
    {
     "data": {
      "image/png": "[encoded data removed]",
      "text/plain": [
       "<Figure size 1152x360 with 2 Axes>"
      ]
     },
     "metadata": {
      "needs_background": "light"
     },
     "output_type": "display_data"
    }
   ],
   "source": [
    "fig = plt.figure(figsize=(16,5))\n",
    "ax1 = fig.add_subplot(121)\n",
    "ax2 = fig.add_subplot(122)\n",
    "ax1.plot(history.epoch, history.history['loss'], c='k', label='Training')\n",
    "ax1.plot(history.epoch, history.history['val_loss'], c='r', label='Testing')\n",
    "ax1.set_xlabel('epoch')\n",
    "ax1.set_ylabel('loss', size=18)\n",
    "ax1.legend()\n",
    "\n",
    "ax2.plot(history.epoch, history.history['acc'], c='k', label='Training')\n",
    "ax2.plot(history.epoch, history.history['val_acc'], c='r', label='Testing')\n",
    "ax2.set_xlabel('epoch')\n",
    "ax2.set_ylabel('accuracy', size=18)\n",
    "ax2.legend();"
   ]
  },
  {
   "cell_type": "markdown",
   "metadata": {},
   "source": [
    "### Positive sentiment is predicted with higher accuracy than Negative sentiment: "
   ]
  },
  {
   "cell_type": "code",
   "execution_count": 29,
   "metadata": {},
   "outputs": [
    {
     "data": {
      "image/png": "[encoded data removed]",
      "text/plain": [
       "<Figure size 432x288 with 1 Axes>"
      ]
     },
     "metadata": {
      "needs_background": "light"
     },
     "output_type": "display_data"
    }
   ],
   "source": [
    "import itertools\n",
    "from sklearn.metrics import confusion_matrix\n",
    "\n",
    "predictions = neuralmodel.predict(X_test_neur)\n",
    "matri=confusion_matrix(Y_test_neur.argmax(axis=1), predictions.argmax(axis=1))\n",
    "normalized_matrix=matri/matri.sum(axis=1)[:, np.newaxis] *100\n",
    "\n",
    "height, width = normalized_matrix.shape\n",
    "\n",
    "fig = plt.figure()\n",
    "ax = fig.add_subplot(111, aspect='equal')\n",
    "for x in range(width):\n",
    "    for y in range(height):\n",
    "        ax.annotate(str(normalized_matrix[x][y].round(2))+' %', xy=(y, x), ha='center', va='center', size=15)\n",
    "offset = 0.5\n",
    "plt.xticks([0,1], ['Negative Sentiment','Positive Sentiment'], rotation=45)\n",
    "plt.yticks([0,1], ['Negative Sentiment','Positive Sentiment'], rotation=45)\n",
    "plt.xlabel('Predicted', size=20)\n",
    "plt.ylabel('Actual', size=20)\n",
    "ax.hlines(y=np.arange(height+1)- offset, xmin=-offset, xmax=width-offset)\n",
    "ax.vlines(x=np.arange(width+1) - offset, ymin=-offset, ymax=height-offset);"
   ]
  },
  {
   "cell_type": "markdown",
   "metadata": {},
   "source": [
    "### Model is making correct predictions with more confidence:"
   ]
  },
  {
   "cell_type": "code",
   "execution_count": 30,
   "metadata": {},
   "outputs": [
    {
     "name": "stderr",
     "output_type": "stream",
     "text": [
      "/anaconda3/lib/python3.6/site-packages/scipy/stats/stats.py:1713: FutureWarning: Using a non-tuple sequence for multidimensional indexing is deprecated; use `arr[tuple(seq)]` instead of `arr[seq]`. In the future this will be interpreted as an array index, `arr[np.array(seq)]`, which will result either in an error or a different result.\n",
      "  return np.add.reduce(sorted[indexer] * weights, axis=axis) / sumval\n"
     ]
    },
    {
     "data": {
      "image/png": "[encoded data removed]",
      "text/plain": [
       "<Figure size 432x288 with 1 Axes>"
      ]
     },
     "metadata": {
      "needs_background": "light"
     },
     "output_type": "display_data"
    }
   ],
   "source": [
    "import seaborn as sns\n",
    "#function extracting predicted outcome and the confidence from softmax\n",
    "def pred_confidence(y_predicted, y_test):\n",
    "    real = np.argmax(y_test, axis=1)\n",
    "    pred = np.argmax(y_predicted, axis=1)\n",
    "    prob = np.max(y_predicted, axis=1)\n",
    "    accuracy=[]\n",
    "    for i in range(len(real)):\n",
    "        if real[i]==pred[i]:\n",
    "            accuracy.append('Correct prediction')\n",
    "        else:\n",
    "            accuracy.append('Incorrect prediction')\n",
    "    return pd.DataFrame({'predicted_outcome': pred, 'confidence': prob, 'accurate':accuracy})\n",
    "\n",
    "confid = pred_confidence(predictions, Y_test_neur)\n",
    "\n",
    "p=sns.violinplot('predicted_outcome', 'confidence', data=confid, hue='accurate', split=True)\n",
    "p.legend(loc='lower center')\n",
    "plt.title('Confidence for Predicted Outcome', size=15);"
   ]
  },
  {
   "cell_type": "code",
   "execution_count": 33,
   "metadata": {},
   "outputs": [
    {
     "data": {
      "text/html": [
       "<div>\n",
       "<style scoped>\n",
       "    .dataframe tbody tr th:only-of-type {\n",
       "        vertical-align: middle;\n",
       "    }\n",
       "\n",
       "    .dataframe tbody tr th {\n",
       "        vertical-align: top;\n",
       "    }\n",
       "\n",
       "    .dataframe thead th {\n",
       "        text-align: right;\n",
       "    }\n",
       "</style>\n",
       "<table border=\"1\" class=\"dataframe\">\n",
       "  <thead>\n",
       "    <tr style=\"text-align: right;\">\n",
       "      <th></th>\n",
       "      <th>title</th>\n",
       "      <th>source</th>\n",
       "      <th>accurate</th>\n",
       "      <th>predicted_outcome</th>\n",
       "      <th>confidence</th>\n",
       "    </tr>\n",
       "  </thead>\n",
       "  <tbody>\n",
       "    <tr>\n",
       "      <th>545</th>\n",
       "      <td>Shame (2011)</td>\n",
       "      <td>ebert</td>\n",
       "      <td>1</td>\n",
       "      <td>0</td>\n",
       "      <td>0.985123</td>\n",
       "    </tr>\n",
       "    <tr>\n",
       "      <th>546</th>\n",
       "      <td>Sin City (2005)</td>\n",
       "      <td>nytimes</td>\n",
       "      <td>1</td>\n",
       "      <td>1</td>\n",
       "      <td>0.841406</td>\n",
       "    </tr>\n",
       "    <tr>\n",
       "      <th>547</th>\n",
       "      <td>Melori Kein. Prarasta kontrole (2011)</td>\n",
       "      <td>nytimes</td>\n",
       "      <td>1</td>\n",
       "      <td>1</td>\n",
       "      <td>0.771073</td>\n",
       "    </tr>\n",
       "    <tr>\n",
       "      <th>548</th>\n",
       "      <td>The Sweet Hereafter (1997)</td>\n",
       "      <td>reel</td>\n",
       "      <td>1</td>\n",
       "      <td>0</td>\n",
       "      <td>0.992369</td>\n",
       "    </tr>\n",
       "    <tr>\n",
       "      <th>549</th>\n",
       "      <td>21 Grams (2003)</td>\n",
       "      <td>nytimes</td>\n",
       "      <td>1</td>\n",
       "      <td>0</td>\n",
       "      <td>0.993308</td>\n",
       "    </tr>\n",
       "  </tbody>\n",
       "</table>\n",
       "</div>"
      ],
      "text/plain": [
       "                                     title   source  accurate  \\\n",
       "545                           Shame (2011)    ebert         1   \n",
       "546                        Sin City (2005)  nytimes         1   \n",
       "547  Melori Kein. Prarasta kontrole (2011)  nytimes         1   \n",
       "548             The Sweet Hereafter (1997)     reel         1   \n",
       "549                        21 Grams (2003)  nytimes         1   \n",
       "\n",
       "     predicted_outcome  confidence  \n",
       "545                  0    0.985123  \n",
       "546                  1    0.841406  \n",
       "547                  1    0.771073  \n",
       "548                  0    0.992369  \n",
       "549                  0    0.993308  "
      ]
     },
     "execution_count": 33,
     "metadata": {},
     "output_type": "execute_result"
    }
   ],
   "source": [
    "test_title_source = pd.DataFrame(G_test, columns=['title', 'source'])\n",
    "test_info = pd.concat([confid, test_title_source], axis=1)\n",
    "test_info = test_info[['title', 'source', 'accurate', 'predicted_outcome', 'confidence']]\n",
    "test_info['accurate'] = test_info['accurate'].map({'Correct prediction': 1, 'Incorrect prediction': 0})\n",
    "test_info.tail()"
   ]
  },
  {
   "cell_type": "markdown",
   "metadata": {},
   "source": [
    "### Checking how accurate the prediction is for different review source:"
   ]
  },
  {
   "cell_type": "code",
   "execution_count": 34,
   "metadata": {},
   "outputs": [
    {
     "name": "stdout",
     "output_type": "stream",
     "text": [
      "ebert critic testing sample size is 169, accuracy for testing data is 91.1%\n",
      "nytimes critic testing sample size is 134, accuracy for testing data is 91.8%\n",
      "reel critic testing sample size is 76, accuracy for testing data is 94.7%\n",
      "cinefile critic testing sample size is 105, accuracy for testing data is 85.7%\n",
      "alibi critic testing sample size is 41, accuracy for testing data is 92.7%\n",
      "metropolitan critic testing sample size is 10, accuracy for testing data is 90.0%\n",
      "bright_lights critic testing sample size is 12, accuracy for testing data is 75.0%\n",
      "3brothers critic testing sample size is 3, accuracy for testing data is 100.0%\n"
     ]
    }
   ],
   "source": [
    "src=[]\n",
    "count=[]\n",
    "acc=[]\n",
    "for i in ['ebert', 'nytimes', 'reel', 'cinefile', 'alibi', 'metropolitan', 'bright_lights', '3brothers']:\n",
    "    critic = test_info[test_info['source'] == i]\n",
    "    print('%s critic testing sample size is %d, accuracy for testing data is %.1f%%' % (i,len(critic),round(np.mean(critic['accurate'].values)*100,1)))\n",
    "    if len(critic)>70:\n",
    "        src.append(i)\n",
    "        count.append(len(critic))\n",
    "        acc.append(sum(critic['accurate']))"
   ]
  },
  {
   "cell_type": "code",
   "execution_count": 35,
   "metadata": {},
   "outputs": [
    {
     "data": {
      "image/png": "[encoded data removed]",
      "text/plain": [
       "<Figure size 432x288 with 1 Axes>"
      ]
     },
     "metadata": {
      "needs_background": "light"
     },
     "output_type": "display_data"
    }
   ],
   "source": [
    "p1 = plt.bar(src, count)\n",
    "p2 = plt.bar(src, acc, alpha=0.8)\n",
    "plt.ylabel('Review count')\n",
    "plt.xticks(src, ('Roger Ebert reviews', 'New York Times reviews', 'ReelViews.net', 'UrbanCinefile.com.au'), rotation=50)\n",
    "plt.legend((p1[0], p2[0]), ('Incorrect Prediction', 'Correct Prediction'));"
   ]
  },
  {
   "cell_type": "code",
   "execution_count": null,
   "metadata": {},
   "outputs": [],
   "source": []
  },
  {
   "cell_type": "code",
   "execution_count": null,
   "metadata": {},
   "outputs": [],
   "source": []
  }
 ],
 "metadata": {
  "kernelspec": {
   "display_name": "Python 3",
   "language": "python",
   "name": "python3"
  },
  "language_info": {
   "codemirror_mode": {
    "name": "ipython",
    "version": 3
   },
   "file_extension": ".py",
   "mimetype": "text/x-python",
   "name": "python",
   "nbconvert_exporter": "python",
   "pygments_lexer": "ipython3",
   "version": "3.6.6"
  }
 },
 "nbformat": 4,
 "nbformat_minor": 2
}
